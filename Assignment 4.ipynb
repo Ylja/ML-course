{
 "cells": [
  {
   "cell_type": "markdown",
   "metadata": {},
   "source": [
    "# Foundations of Data Mining: Assignment 4\n",
    "\n",
    "Please complete all assignments in this notebook. You should submit this notebook, as well as a PDF version (See File > Download as).\n",
    "\n",
    "**Deadline:** Thursday, April 12, 2018"
   ]
  },
  {
   "cell_type": "code",
   "execution_count": 1,
   "metadata": {
    "collapsed": true
   },
   "outputs": [],
   "source": [
    "# Please fill in your names here\n",
    "NAME_STUDENT_1 = \"Iggy Van Hoof\"\n",
    "NAME_STUDENT_2 = \"Ylja Remmits\""
   ]
  },
  {
   "cell_type": "code",
   "execution_count": 1,
   "metadata": {},
   "outputs": [],
   "source": [
    "%matplotlib inline\n",
    "from preamble import *\n",
    "plt.rcParams['savefig.dpi'] = 100 # This controls the size of your figures\n",
    "# Comment out and restart notebook if you only want the last output of each cell.\n",
    "InteractiveShell.ast_node_interactivity = \"all\""
   ]
  },
  {
   "cell_type": "markdown",
   "metadata": {},
   "source": [
    "###### Backpropagation (6 points)\n",
    "\n",
    "Figure 1 illustrates a simple neural network model.\n",
    "\n",
    "![Figure 1](images/a4_network.png)\n",
    "\n",
    "It has single input $x$, and three layers with respectively one, two, and one neurons. The activation function of the neurons is ReLU. \n",
    "\n",
    "The parameters $w_1$, $w_2$, $w_3$, $w_4$, and $w_5$ (no biases) are initialized to the following values $w_1 = 2, w_2 = 1$, $w_3 = 2$, $w_4 = 4$, and $w_5 = 1$. Implement a single update step of the gradient descent algorithm by hand. Run the update state for the data point $(x=2, y=3)$:\n",
    "\n",
    "The goal is to model the relationship between two continuous variables. The learning rate is set to $0.1$\n",
    "\n",
    "Provide the solution in the following format:\n",
    "\n",
    "- A choice for a loss function \n",
    "- Compute graph for training the neural network\n",
    "- Partial derivative expression for each of the parameters in the model\n",
    "- The update expression for each of the parameters for each of the data-points\n",
    "- The final value of all five parameters after the single step in the gradient descent algorithm\n",
    "\n",
    "The Python code for simple computational graph nodes, as seen in the tutorial session, is provided in the cell below (run the cell to load the code, and again to run the code). Extend the nodes so they can be used to implement the network described above. Implement the network with the same initial weights and the correct learning rate, and verify your hand-made calculations. Add comments to your code or provide a separate description to explain the changes you have made."
   ]
  },
  {
   "cell_type": "code",
   "execution_count": 2,
   "metadata": {},
   "outputs": [
    {
     "data": {
      "text/plain": [
       "'\\nImplementations of nodes for a computation graph. Each node\\nhas a forward pass and a backward pass function, allowing\\nfor the evaluation and backpropagation of data.\\n'"
      ]
     },
     "execution_count": 2,
     "metadata": {},
     "output_type": "execute_result"
    },
    {
     "name": "stdout",
     "output_type": "stream",
     "text": [
      "Loaded simple graph nodes\n",
      "4\n",
      "4\n",
      "8\n",
      "24\n",
      "220.5\n",
      "w4 & w5: [-4.4, -15.8]\n",
      "W2: [-32.6]\n",
      "W3: [-6.4]\n",
      "W1: [-23.200000000000003]\n"
     ]
    }
   ],
   "source": [
    "# %load basic_graph.py\n",
    "'''\n",
    "Implementations of nodes for a computation graph. Each node\n",
    "has a forward pass and a backward pass function, allowing\n",
    "for the evaluation and backpropagation of data.\n",
    "'''\n",
    "\n",
    "from abc import ABC, abstractmethod\n",
    "import math\n",
    "import time\n",
    "\n",
    "\n",
    "class Node(object):\n",
    "\n",
    "    def __init__(self, inputs):\n",
    "        self.inputs = inputs\n",
    "\n",
    "    @abstractmethod\n",
    "    def forward(self):\n",
    "        ''' Feed-forward the result '''\n",
    "        raise NotImplementedError(\"Missing forward-propagation method.\")\n",
    "\n",
    "    @abstractmethod\n",
    "    def backward(self, d):\n",
    "        ''' Back-propagate the error\n",
    "            d is the delta of the subsequent node in the network '''\n",
    "        raise NotImplementedError(\"Missing back-propagation method.\")\n",
    "\n",
    "\n",
    "class ConstantNode(Node):\n",
    "\n",
    "    def __init__(self, value):\n",
    "        self.output = value\n",
    "\n",
    "    def forward(self):\n",
    "        return self.output\n",
    "\n",
    "    def backward(self, d):\n",
    "        pass\n",
    "\n",
    "\n",
    "class VariableNode(Node):\n",
    "\n",
    "    def __init__(self, value):\n",
    "        self.output = value\n",
    "\n",
    "    def forward(self):\n",
    "        return self.output\n",
    "\n",
    "    def backward(self, d):\n",
    "        self.output -= 0.1 * d # Gradient Descent\n",
    "\n",
    "\n",
    "class AdditionNode(Node):\n",
    "\n",
    "    def forward(self):\n",
    "        self.output = sum([i.forward() for i in self.inputs])\n",
    "        return self.output\n",
    "\n",
    "    def backward(self, d):\n",
    "        for i in self.inputs:\n",
    "            i.backward(d)\n",
    "\n",
    "\n",
    "class MultiplicationNode(Node):\n",
    "\n",
    "    def forward(self):\n",
    "        self.output = self.inputs[0].forward() * self.inputs[1].forward()\n",
    "        return self.output\n",
    "\n",
    "    def backward(self, d):\n",
    "        self.inputs[0].backward(d * self.inputs[1].output)\n",
    "        self.inputs[1].backward(d * self.inputs[0].output)\n",
    "\n",
    "\n",
    "class MSENode(Node):\n",
    "\n",
    "    def forward(self):\n",
    "        self.output = 0.5 * (\n",
    "            self.inputs[0].forward() - self.inputs[1].forward())**2\n",
    "        return self.output\n",
    "\n",
    "    def backward(self, d):\n",
    "        self.inputs[0].backward(d * (self.inputs[0].output - self.inputs[1].output))\n",
    "        self.inputs[1].backward(d * (self.inputs[1].output - self.inputs[0].output))\n",
    "\n",
    "\n",
    "class SigmoidNode(Node):\n",
    "\n",
    "    def forward(self):\n",
    "        self.output = 1.0 / (1.0 + math.exp(-self.inputs[0].forward()))\n",
    "        return self.output\n",
    "\n",
    "    def backward(self, d):\n",
    "        self.inputs[0].backward(d * self.output * (1.0 - self.output))\n",
    "\n",
    "class ReLUNode(Node):\n",
    "\n",
    "    def forward(self):\n",
    "        self.output = max(0, self.inputs[0].forward())\n",
    "        return self.output\n",
    "\n",
    "    def backward(self, d):\n",
    "        if self.output > 0:\n",
    "            self.inputs[0].backward(d*1)\n",
    "        else:\n",
    "            self.inputs[0].backward(d*0)\n",
    "\n",
    "class TanhNode(object):\n",
    "\n",
    "    def forward(self):\n",
    "        raise NotImplementedError(\"Forward pass for tanh activation node has not been implemented yet.\")\n",
    "\n",
    "    def backward(self, d):\n",
    "        raise NotImplementedError(\"Backward pass for tanh activation node has not been implemented yet.\")\n",
    "\n",
    "# Example graph as shown in MLP lecture slides\n",
    "class SampleGraph(object):\n",
    "\n",
    "    def __init__(self, x, y, w, b):\n",
    "        ''' x: input\n",
    "            y: expected output\n",
    "            w: initial weight\n",
    "            b: initial bias '''\n",
    "        self.w = VariableNode(w)\n",
    "        self.b = VariableNode(b)\n",
    "        self.graph = MSENode([\n",
    "            AdditionNode([\n",
    "                MultiplicationNode([\n",
    "                    ConstantNode(x),\n",
    "                    self.w\n",
    "                ]),\n",
    "                MultiplicationNode([\n",
    "                    self.b,\n",
    "                    ConstantNode(1)\n",
    "                ])\n",
    "            ]),\n",
    "            ConstantNode(y)\n",
    "        ])\n",
    "\n",
    "    def forward(self):\n",
    "        return self.graph.forward()\n",
    "\n",
    "    def backward(self, d):\n",
    "        self.graph.backward(d)\n",
    "\n",
    "\n",
    "class Neuron(Node):\n",
    "\n",
    "    def __init__(self, inputs, weights, activation):\n",
    "        ''' weights: list of initial weights, same length as inputs '''\n",
    "        self.inputs = inputs\n",
    "        # Initialize a weight for each input\n",
    "        self.weights = [VariableNode(weight) for weight in weights]\n",
    "        # Neurons normally have a bias, ignore for this assignment\n",
    "        #self.bias = VariableNode(bias, \"b\")\n",
    "\n",
    "        # Multiplication node for each pair of inputs and weights\n",
    "        mults = [MultiplicationNode([i, w]) for i, w, in zip(self.inputs, self.weights)]\n",
    "        # Neurons normally have a bias, ignore for this assignment\n",
    "        #mults.append(MultiplicationNode([self.bias, ConstantNode(1)]))\n",
    "\n",
    "        # Sum all multiplication results\n",
    "        added = AdditionNode(mults)\n",
    "\n",
    "        # Apply activation function\n",
    "        if activation == 'sigmoid':\n",
    "            self.graph = SigmoidNode([added])\n",
    "        elif activation == 'relu':\n",
    "            self.graph = ReLUNode([added])\n",
    "        elif activation == 'tanh':\n",
    "            self.graph = TanhNode([added])\n",
    "        else:\n",
    "            raise ValueError(\"Unknown activation function.\")\n",
    "\n",
    "    def forward(self):\n",
    "        self.output = self.graph.forward()\n",
    "        return self.output\n",
    "\n",
    "    def backward(self, d):\n",
    "        self.graph.backward(d)\n",
    "\n",
    "    def set_weights(self, new_weights):\n",
    "        for i in len(new_weights):\n",
    "            self.weights[i].output = new_weights[i]\n",
    "\n",
    "    def get_weights(self):\n",
    "        return [weight.output for weight in self.weights]\n",
    "\n",
    "if __name__ == '__main__':\n",
    "    print(\"Loaded simple graph nodes\")\n",
    "    inputs = [ConstantNode(2)]\n",
    "    n1 = Neuron(inputs, [2], 'relu')\n",
    "    o1 = n1.forward()\n",
    "    print(o1)\n",
    "    n2 = Neuron([n1], [1], 'relu')\n",
    "    n3 = Neuron([n1], [2], 'relu')\n",
    "    o2 = n2.forward()\n",
    "    print(o2)\n",
    "    o3 = n3.forward()\n",
    "    print(o3)\n",
    "    n4 = Neuron([n2, n3], [4, 1], 'relu')\n",
    "    o4 = n4.forward()\n",
    "    print(o4)\n",
    "    mse = MSENode([n4, ConstantNode(3)])\n",
    "    print(mse.forward())\n",
    "    gMSE = mse.backward(1)\n",
    "    print(\"w4 & w5: {}\".format(n4.get_weights()))\n",
    "    print(\"W2: {}\".format(n2.get_weights()))\n",
    "    print(\"W3: {}\".format(n3.get_weights()))\n",
    "    print(\"W1: {}\".format(n1.get_weights()))\n",
    "\n",
    "#     g4 = n4.backward(gMSE)\n",
    "#     n3.backward(g4)\n",
    "\n",
    "    \n",
    "    # Example network\n",
    "#     sg = SampleGraph(2, 2, 2, 1)\n",
    "#     prediction = sg.forward()\n",
    "#     print(\"Initial prediction is\", prediction)\n",
    "#     sg.backward(1)\n",
    "#     print(\"w has new value\", sg.w.output)\n",
    "#     print(\"b has new value\", sg.b.output)\n",
    "\n",
    "    # Run your network here"
   ]
  },
  {
   "cell_type": "code",
   "execution_count": 1,
   "metadata": {
    "collapsed": true
   },
   "outputs": [],
   "source": [
    "# Code 1\n"
   ]
  },
  {
   "cell_type": "markdown",
   "metadata": {},
   "source": [
    "#### Uitleg\n"
   ]
  },
  {
   "cell_type": "markdown",
   "metadata": {},
   "source": [
    "## Training Deep Models (3 points)\n",
    "\n",
    "The model in the example code below performs poorly as its depth increases. Train this model on the MNIST digit detection task. \n",
    "\n",
    "Examine its training performance by gradually increasing its depth:\n",
    "- Set the depth to 1 hidden layer\n",
    "- Set the depth to 2 hidden layers\n",
    "- Set the depth to 3 hidden layers\n",
    "\n",
    "Modify the model such that you improve its performance when its depth increases. Train the new model again for the different depths:\n",
    "- Set the depth to 1 hidden layer\n",
    "- Set the depth to 2 hidden layers\n",
    "- Set the depth to 3 hidden layers\n",
    "\n",
    "Submit an explanation for the limitation of the original model. Explain your modification. \n",
    "Submit your code and 6 plots (can be overlaid) for the training performance of both models with different depths. \n",
    "\n"
   ]
  },
  {
   "cell_type": "code",
   "execution_count": 4,
   "metadata": {},
   "outputs": [
    {
     "name": "stderr",
     "output_type": "stream",
     "text": [
      "Using TensorFlow backend.\n"
     ]
    }
   ],
   "source": [
    "# (You don't need to change this part of the code)\n",
    "from __future__ import print_function\n",
    "import numpy as np\n",
    "np.random.seed(1234)\n",
    "\n",
    "from keras.datasets import mnist\n",
    "from keras.models import Sequential\n",
    "from keras.layers.core import Dense, Dropout, Activation\n",
    "from keras.optimizers import SGD\n",
    "from keras.utils import np_utils\n",
    "\n",
    "\n",
    "import matplotlib.pyplot as plt\n",
    "\n",
    "batch_size = 128\n",
    "nb_classes = 10\n",
    "nb_epoch = 10"
   ]
  },
  {
   "cell_type": "code",
   "execution_count": 5,
   "metadata": {},
   "outputs": [
    {
     "name": "stdout",
     "output_type": "stream",
     "text": [
      "Downloading data from https://s3.amazonaws.com/img-datasets/mnist.npz\n",
      "11493376/11490434 [==============================] - 4s 0us/step\n",
      "60000 train samples\n",
      "10000 test samples\n"
     ]
    }
   ],
   "source": [
    "# (You don't need to change this part of the code)\n",
    "# the data, shuffled and split between train and test sets\n",
    "(X_train, y_train), (X_test, y_test) = mnist.load_data()\n",
    "\n",
    "X_train = X_train.reshape(60000, 784)\n",
    "X_test = X_test.reshape(10000, 784)\n",
    "\n",
    "X_train = X_train.astype('float32')\n",
    "X_test = X_test.astype('float32')\n",
    "X_train /= 255\n",
    "X_test /= 255\n",
    "print(X_train.shape[0], 'train samples')\n",
    "print(X_test.shape[0], 'test samples')\n",
    "\n",
    "# convert class vectors to binary class matrices\n",
    "Y_train = np_utils.to_categorical(y_train, nb_classes)\n",
    "Y_test = np_utils.to_categorical(y_test, nb_classes)"
   ]
  },
  {
   "cell_type": "code",
   "execution_count": 16,
   "metadata": {
    "collapsed": true
   },
   "outputs": [],
   "source": [
    "# Use this parameter to change the depth of the model\n",
    "number_hidden_layers_max = 3  # Number of hidden layers"
   ]
  },
  {
   "cell_type": "code",
   "execution_count": 29,
   "metadata": {},
   "outputs": [
    {
     "name": "stdout",
     "output_type": "stream",
     "text": [
      "_________________________________________________________________\n",
      "Layer (type)                 Output Shape              Param #   \n",
      "=================================================================\n",
      "dense_38 (Dense)             (None, 512)               401920    \n",
      "_________________________________________________________________\n",
      "dropout_24 (Dropout)         (None, 512)               0         \n",
      "_________________________________________________________________\n",
      "dense_39 (Dense)             (None, 10)                5130      \n",
      "_________________________________________________________________\n",
      "activation_24 (Activation)   (None, 10)                0         \n",
      "=================================================================\n",
      "Total params: 407,050\n",
      "Trainable params: 407,050\n",
      "Non-trainable params: 0\n",
      "_________________________________________________________________\n",
      "Train on 60000 samples, validate on 10000 samples\n",
      "Epoch 1/10\n",
      "60000/60000 [==============================] - 5s 85us/step - loss: 1.1240 - acc: 0.7259 - val_loss: 0.6029 - val_acc: 0.8627\n",
      "Epoch 2/10\n",
      "60000/60000 [==============================] - 5s 76us/step - loss: 0.5536 - acc: 0.8591 - val_loss: 0.4351 - val_acc: 0.8904\n",
      "Epoch 3/10\n",
      "60000/60000 [==============================] - 5s 82us/step - loss: 0.4491 - acc: 0.8787 - val_loss: 0.3743 - val_acc: 0.8995\n",
      "Epoch 4/10\n",
      "60000/60000 [==============================] - 5s 77us/step - loss: 0.4010 - acc: 0.8888 - val_loss: 0.3415 - val_acc: 0.9066\n",
      "Epoch 5/10\n",
      "60000/60000 [==============================] - 5s 77us/step - loss: 0.3710 - acc: 0.8969 - val_loss: 0.3179 - val_acc: 0.9131\n",
      "Epoch 6/10\n",
      "60000/60000 [==============================] - 5s 82us/step - loss: 0.3486 - acc: 0.9027 - val_loss: 0.3016 - val_acc: 0.9165\n",
      "Epoch 7/10\n",
      "60000/60000 [==============================] - 5s 79us/step - loss: 0.3295 - acc: 0.9075 - val_loss: 0.2877 - val_acc: 0.9210\n",
      "Epoch 8/10\n",
      "60000/60000 [==============================] - 5s 83us/step - loss: 0.3153 - acc: 0.9122 - val_loss: 0.2762 - val_acc: 0.9242\n",
      "Epoch 9/10\n",
      "60000/60000 [==============================] - 5s 83us/step - loss: 0.3036 - acc: 0.9146 - val_loss: 0.2668 - val_acc: 0.9269\n",
      "Epoch 10/10\n",
      "60000/60000 [==============================] - 5s 83us/step - loss: 0.2909 - acc: 0.9185 - val_loss: 0.2578 - val_acc: 0.9291\n",
      "_________________________________________________________________\n",
      "Layer (type)                 Output Shape              Param #   \n",
      "=================================================================\n",
      "dense_40 (Dense)             (None, 512)               401920    \n",
      "_________________________________________________________________\n",
      "dropout_25 (Dropout)         (None, 512)               0         \n",
      "_________________________________________________________________\n",
      "dense_41 (Dense)             (None, 10)                5130      \n",
      "_________________________________________________________________\n",
      "activation_25 (Activation)   (None, 10)                0         \n",
      "=================================================================\n",
      "Total params: 407,050\n",
      "Trainable params: 407,050\n",
      "Non-trainable params: 0\n",
      "_________________________________________________________________\n",
      "Train on 60000 samples, validate on 10000 samples\n",
      "Epoch 1/10\n",
      "60000/60000 [==============================] - 6s 93us/step - loss: 2.0201 - acc: 0.3440 - val_loss: 1.6351 - val_acc: 0.7183\n",
      "Epoch 2/10\n",
      "60000/60000 [==============================] - 5s 88us/step - loss: 1.4685 - acc: 0.6310 - val_loss: 1.1841 - val_acc: 0.7997\n",
      "Epoch 3/10\n",
      "60000/60000 [==============================] - 5s 82us/step - loss: 1.1254 - acc: 0.7245 - val_loss: 0.9195 - val_acc: 0.8195\n",
      "Epoch 4/10\n",
      "60000/60000 [==============================] - 5s 82us/step - loss: 0.9222 - acc: 0.7666 - val_loss: 0.7618 - val_acc: 0.8458\n",
      "Epoch 5/10\n",
      "60000/60000 [==============================] - 5s 83us/step - loss: 0.7968 - acc: 0.7918 - val_loss: 0.6650 - val_acc: 0.8545\n",
      "Epoch 6/10\n",
      "60000/60000 [==============================] - 5s 82us/step - loss: 0.7123 - acc: 0.8093 - val_loss: 0.5981 - val_acc: 0.8666\n",
      "Epoch 7/10\n",
      "60000/60000 [==============================] - 5s 86us/step - loss: 0.6582 - acc: 0.8202 - val_loss: 0.5507 - val_acc: 0.8720\n",
      "Epoch 8/10\n",
      "60000/60000 [==============================] - 5s 83us/step - loss: 0.6132 - acc: 0.8312 - val_loss: 0.5154 - val_acc: 0.8744\n",
      "Epoch 9/10\n",
      "60000/60000 [==============================] - 5s 84us/step - loss: 0.5819 - acc: 0.8371 - val_loss: 0.4876 - val_acc: 0.8807\n",
      "Epoch 10/10\n",
      "60000/60000 [==============================] - 5s 83us/step - loss: 0.5538 - acc: 0.8442 - val_loss: 0.4662 - val_acc: 0.8823\n",
      "_________________________________________________________________\n",
      "Layer (type)                 Output Shape              Param #   \n",
      "=================================================================\n",
      "dense_42 (Dense)             (None, 512)               401920    \n",
      "_________________________________________________________________\n",
      "dropout_26 (Dropout)         (None, 512)               0         \n",
      "_________________________________________________________________\n",
      "dense_43 (Dense)             (None, 512)               262656    \n",
      "_________________________________________________________________\n",
      "activation_26 (Activation)   (None, 512)               0         \n",
      "_________________________________________________________________\n",
      "dropout_27 (Dropout)         (None, 512)               0         \n",
      "_________________________________________________________________\n",
      "dense_44 (Dense)             (None, 10)                5130      \n",
      "_________________________________________________________________\n",
      "activation_27 (Activation)   (None, 10)                0         \n",
      "=================================================================\n",
      "Total params: 669,706\n",
      "Trainable params: 669,706\n",
      "Non-trainable params: 0\n",
      "_________________________________________________________________\n",
      "Train on 60000 samples, validate on 10000 samples\n",
      "Epoch 1/10\n",
      "60000/60000 [==============================] - 9s 147us/step - loss: 1.2092 - acc: 0.6824 - val_loss: 0.5432 - val_acc: 0.8651\n",
      "Epoch 2/10\n",
      "60000/60000 [==============================] - 8s 133us/step - loss: 0.5378 - acc: 0.8472 - val_loss: 0.3834 - val_acc: 0.8965\n",
      "Epoch 3/10\n",
      "60000/60000 [==============================] - 8s 138us/step - loss: 0.4276 - acc: 0.8763 - val_loss: 0.3282 - val_acc: 0.9090\n",
      "Epoch 4/10\n",
      "60000/60000 [==============================] - 8s 135us/step - loss: 0.3815 - acc: 0.8886 - val_loss: 0.2978 - val_acc: 0.9172\n",
      "Epoch 5/10\n",
      "60000/60000 [==============================] - 9s 144us/step - loss: 0.3480 - acc: 0.8994 - val_loss: 0.2750 - val_acc: 0.9235\n",
      "Epoch 6/10\n",
      "60000/60000 [==============================] - 8s 134us/step - loss: 0.3225 - acc: 0.9069 - val_loss: 0.2570 - val_acc: 0.9282\n",
      "Epoch 7/10\n",
      "60000/60000 [==============================] - 9s 146us/step - loss: 0.3013 - acc: 0.9135 - val_loss: 0.2435 - val_acc: 0.9310\n",
      "Epoch 8/10\n",
      "60000/60000 [==============================] - 9s 143us/step - loss: 0.2858 - acc: 0.9176 - val_loss: 0.2312 - val_acc: 0.9345\n",
      "Epoch 9/10\n",
      "60000/60000 [==============================] - 9s 150us/step - loss: 0.2712 - acc: 0.9213 - val_loss: 0.2191 - val_acc: 0.9366\n",
      "Epoch 10/10\n",
      "60000/60000 [==============================] - 9s 147us/step - loss: 0.2585 - acc: 0.9254 - val_loss: 0.2084 - val_acc: 0.9403\n",
      "_________________________________________________________________\n",
      "Layer (type)                 Output Shape              Param #   \n",
      "=================================================================\n",
      "dense_45 (Dense)             (None, 512)               401920    \n",
      "_________________________________________________________________\n",
      "dropout_28 (Dropout)         (None, 512)               0         \n",
      "_________________________________________________________________\n",
      "dense_46 (Dense)             (None, 512)               262656    \n",
      "_________________________________________________________________\n",
      "activation_28 (Activation)   (None, 512)               0         \n",
      "_________________________________________________________________\n",
      "dropout_29 (Dropout)         (None, 512)               0         \n",
      "_________________________________________________________________\n",
      "dense_47 (Dense)             (None, 10)                5130      \n",
      "_________________________________________________________________\n",
      "activation_29 (Activation)   (None, 10)                0         \n",
      "=================================================================\n",
      "Total params: 669,706\n",
      "Trainable params: 669,706\n",
      "Non-trainable params: 0\n",
      "_________________________________________________________________\n"
     ]
    },
    {
     "name": "stdout",
     "output_type": "stream",
     "text": [
      "Train on 60000 samples, validate on 10000 samples\n",
      "Epoch 1/10\n",
      "60000/60000 [==============================] - 9s 142us/step - loss: 2.3248 - acc: 0.1222 - val_loss: 2.2313 - val_acc: 0.2139\n",
      "Epoch 2/10\n",
      "60000/60000 [==============================] - 8s 138us/step - loss: 2.2461 - acc: 0.1739 - val_loss: 2.1451 - val_acc: 0.5404\n",
      "Epoch 3/10\n",
      "60000/60000 [==============================] - 9s 146us/step - loss: 2.1536 - acc: 0.2430 - val_loss: 2.0385 - val_acc: 0.5214\n",
      "Epoch 4/10\n",
      "60000/60000 [==============================] - 9s 150us/step - loss: 2.0268 - acc: 0.3315 - val_loss: 1.8758 - val_acc: 0.6571\n",
      "Epoch 5/10\n",
      "60000/60000 [==============================] - 8s 141us/step - loss: 1.8537 - acc: 0.4266 - val_loss: 1.6661 - val_acc: 0.6530\n",
      "Epoch 6/10\n",
      "60000/60000 [==============================] - 9s 144us/step - loss: 1.6459 - acc: 0.5045 - val_loss: 1.4399 - val_acc: 0.6892\n",
      "Epoch 7/10\n",
      "60000/60000 [==============================] - 9s 152us/step - loss: 1.4392 - acc: 0.5664 - val_loss: 1.2368 - val_acc: 0.7317\n",
      "Epoch 8/10\n",
      "60000/60000 [==============================] - 9s 157us/step - loss: 1.2664 - acc: 0.6160 - val_loss: 1.0770 - val_acc: 0.7460\n",
      "Epoch 9/10\n",
      "60000/60000 [==============================] - 10s 159us/step - loss: 1.1271 - acc: 0.6546 - val_loss: 0.9583 - val_acc: 0.7851\n",
      "Epoch 10/10\n",
      "60000/60000 [==============================] - 10s 158us/step - loss: 1.0215 - acc: 0.6863 - val_loss: 0.8617 - val_acc: 0.7899\n",
      "_________________________________________________________________\n",
      "Layer (type)                 Output Shape              Param #   \n",
      "=================================================================\n",
      "dense_48 (Dense)             (None, 512)               401920    \n",
      "_________________________________________________________________\n",
      "dropout_30 (Dropout)         (None, 512)               0         \n",
      "_________________________________________________________________\n",
      "dense_49 (Dense)             (None, 512)               262656    \n",
      "_________________________________________________________________\n",
      "activation_30 (Activation)   (None, 512)               0         \n",
      "_________________________________________________________________\n",
      "dropout_31 (Dropout)         (None, 512)               0         \n",
      "_________________________________________________________________\n",
      "dense_50 (Dense)             (None, 512)               262656    \n",
      "_________________________________________________________________\n",
      "activation_31 (Activation)   (None, 512)               0         \n",
      "_________________________________________________________________\n",
      "dropout_32 (Dropout)         (None, 512)               0         \n",
      "_________________________________________________________________\n",
      "dense_51 (Dense)             (None, 10)                5130      \n",
      "_________________________________________________________________\n",
      "activation_32 (Activation)   (None, 10)                0         \n",
      "=================================================================\n",
      "Total params: 932,362\n",
      "Trainable params: 932,362\n",
      "Non-trainable params: 0\n",
      "_________________________________________________________________\n",
      "Train on 60000 samples, validate on 10000 samples\n",
      "Epoch 1/10\n",
      "60000/60000 [==============================] - 14s 231us/step - loss: 1.4042 - acc: 0.6020 - val_loss: 0.5471 - val_acc: 0.8568\n",
      "Epoch 2/10\n",
      "60000/60000 [==============================] - 14s 227us/step - loss: 0.5650 - acc: 0.8305 - val_loss: 0.3592 - val_acc: 0.8967\n",
      "Epoch 3/10\n",
      "60000/60000 [==============================] - 13s 223us/step - loss: 0.4328 - acc: 0.8703 - val_loss: 0.3016 - val_acc: 0.9119\n",
      "Epoch 4/10\n",
      "60000/60000 [==============================] - 13s 217us/step - loss: 0.3737 - acc: 0.8896 - val_loss: 0.2713 - val_acc: 0.9210\n",
      "Epoch 5/10\n",
      "60000/60000 [==============================] - 14s 226us/step - loss: 0.3335 - acc: 0.9017 - val_loss: 0.2492 - val_acc: 0.9267\n",
      "Epoch 6/10\n",
      "60000/60000 [==============================] - 13s 220us/step - loss: 0.3053 - acc: 0.9105 - val_loss: 0.2282 - val_acc: 0.9321\n",
      "Epoch 7/10\n",
      "60000/60000 [==============================] - 14s 230us/step - loss: 0.2841 - acc: 0.9159 - val_loss: 0.2123 - val_acc: 0.9367\n",
      "Epoch 8/10\n",
      "60000/60000 [==============================] - 14s 230us/step - loss: 0.2636 - acc: 0.9225 - val_loss: 0.1993 - val_acc: 0.9395\n",
      "Epoch 9/10\n",
      "60000/60000 [==============================] - 14s 227us/step - loss: 0.2488 - acc: 0.9271 - val_loss: 0.1888 - val_acc: 0.9419\n",
      "Epoch 10/10\n",
      "60000/60000 [==============================] - 13s 223us/step - loss: 0.2321 - acc: 0.9311 - val_loss: 0.1775 - val_acc: 0.9462\n",
      "_________________________________________________________________\n",
      "Layer (type)                 Output Shape              Param #   \n",
      "=================================================================\n",
      "dense_52 (Dense)             (None, 512)               401920    \n",
      "_________________________________________________________________\n",
      "dropout_33 (Dropout)         (None, 512)               0         \n",
      "_________________________________________________________________\n",
      "dense_53 (Dense)             (None, 512)               262656    \n",
      "_________________________________________________________________\n",
      "activation_33 (Activation)   (None, 512)               0         \n",
      "_________________________________________________________________\n",
      "dropout_34 (Dropout)         (None, 512)               0         \n",
      "_________________________________________________________________\n",
      "dense_54 (Dense)             (None, 512)               262656    \n",
      "_________________________________________________________________\n",
      "activation_34 (Activation)   (None, 512)               0         \n",
      "_________________________________________________________________\n",
      "dropout_35 (Dropout)         (None, 512)               0         \n",
      "_________________________________________________________________\n",
      "dense_55 (Dense)             (None, 10)                5130      \n",
      "_________________________________________________________________\n",
      "activation_35 (Activation)   (None, 10)                0         \n",
      "=================================================================\n",
      "Total params: 932,362\n",
      "Trainable params: 932,362\n",
      "Non-trainable params: 0\n",
      "_________________________________________________________________\n",
      "Train on 60000 samples, validate on 10000 samples\n",
      "Epoch 1/10\n",
      "60000/60000 [==============================] - 14s 228us/step - loss: 2.3597 - acc: 0.1020 - val_loss: 2.2979 - val_acc: 0.1028\n",
      "Epoch 2/10\n",
      "60000/60000 [==============================] - 13s 217us/step - loss: 2.3471 - acc: 0.1066 - val_loss: 2.2975 - val_acc: 0.1028\n",
      "Epoch 3/10\n",
      "60000/60000 [==============================] - 13s 219us/step - loss: 2.3379 - acc: 0.1079 - val_loss: 2.2891 - val_acc: 0.1599\n",
      "Epoch 4/10\n",
      "60000/60000 [==============================] - 13s 218us/step - loss: 2.3271 - acc: 0.1103 - val_loss: 2.2847 - val_acc: 0.1081\n",
      "Epoch 5/10\n",
      "60000/60000 [==============================] - 13s 221us/step - loss: 2.3192 - acc: 0.1143 - val_loss: 2.2793 - val_acc: 0.1849\n",
      "Epoch 6/10\n",
      "60000/60000 [==============================] - 13s 221us/step - loss: 2.3107 - acc: 0.1179 - val_loss: 2.2729 - val_acc: 0.2922\n",
      "Epoch 7/10\n",
      "60000/60000 [==============================] - 13s 220us/step - loss: 2.3029 - acc: 0.1274 - val_loss: 2.2677 - val_acc: 0.2702\n",
      "Epoch 8/10\n",
      "60000/60000 [==============================] - 13s 220us/step - loss: 2.2952 - acc: 0.1286 - val_loss: 2.2611 - val_acc: 0.2846\n",
      "Epoch 9/10\n",
      "60000/60000 [==============================] - 13s 223us/step - loss: 2.2851 - acc: 0.1394 - val_loss: 2.2524 - val_acc: 0.2647\n",
      "Epoch 10/10\n",
      "60000/60000 [==============================] - 13s 223us/step - loss: 2.2771 - acc: 0.1461 - val_loss: 2.2398 - val_acc: 0.1639\n"
     ]
    }
   ],
   "source": [
    "# Model\n",
    "scores = []\n",
    "histories = []\n",
    "scores2 = []\n",
    "histories2 = []\n",
    "for i in range(1,number_hidden_layers_max+1):\n",
    "    model = Sequential()\n",
    "    model.add(Dense(512, input_shape=(784,), activation='relu'))\n",
    "    model.add(Dropout(0.2))\n",
    "    \n",
    "    number_hidden_layers = i\n",
    "    while number_hidden_layers > 1:\n",
    "        model.add(Dense(512))\n",
    "        model.add(Activation('relu'))\n",
    "        model.add(Dropout(0.2))\n",
    "        number_hidden_layers -= 1\n",
    "\n",
    "\n",
    "    model.add(Dense(10))\n",
    "    model.add(Activation('softmax'))\n",
    "\n",
    "    model.summary()\n",
    "\n",
    "    model.compile(loss='categorical_crossentropy',\n",
    "                  optimizer=SGD(),\n",
    "                  metrics=['accuracy'])\n",
    "\n",
    "    \n",
    "    histories.append(model.fit(X_train, Y_train,\n",
    "                    batch_size=batch_size, nb_epoch=nb_epoch,\n",
    "                    verbose=1, validation_data=(X_test, Y_test)))\n",
    "    scores.append(model.evaluate(X_test, Y_test, verbose=0))\n",
    "    \n",
    "    model = Sequential()\n",
    "    model.add(Dense(512, input_shape=(784,), activation='sigmoid'))\n",
    "    model.add(Dropout(0.2))\n",
    "    \n",
    "    number_hidden_layers = i\n",
    "    while number_hidden_layers > 1:\n",
    "        model.add(Dense(512))\n",
    "        model.add(Activation('sigmoid'))\n",
    "        model.add(Dropout(0.2))\n",
    "        number_hidden_layers -= 1\n",
    "\n",
    "\n",
    "    model.add(Dense(10))\n",
    "    model.add(Activation('softmax'))\n",
    "\n",
    "    model.summary()\n",
    "\n",
    "    model.compile(loss='categorical_crossentropy',\n",
    "                  optimizer=SGD(),\n",
    "                  metrics=['accuracy'])\n",
    "\n",
    "    \n",
    "    histories2.append(model.fit(X_train, Y_train,\n",
    "                    batch_size=batch_size, nb_epoch=nb_epoch,\n",
    "                    verbose=1, validation_data=(X_test, Y_test)))\n",
    "    scores2.append(model.evaluate(X_test, Y_test, verbose=0))"
   ]
  },
  {
   "cell_type": "code",
   "execution_count": 35,
   "metadata": {},
   "outputs": [
    {
     "name": "stdout",
     "output_type": "stream",
     "text": [
      "Test score for relu, 1 layers: 0.2578225689917803\n",
      "Test accuracy for relu, 1 layers: 0.9291\n",
      "Test score for sigmoid, 1 layers: 0.4662249247550964\n",
      "Test accuracy for sigmoid, 1 layers: 0.8823\n",
      "Test score for relu, 2 layers: 0.20841597146093846\n",
      "Test accuracy for relu, 2 layers: 0.9403\n",
      "Test score for sigmoid, 2 layers: 0.8617151197433471\n",
      "Test accuracy for sigmoid, 2 layers: 0.7899\n",
      "Test score for relu, 3 layers: 0.17753258088752627\n",
      "Test accuracy for relu, 3 layers: 0.9462\n",
      "Test score for sigmoid, 3 layers: 2.239799889373779\n",
      "Test accuracy for sigmoid, 3 layers: 0.1639\n"
     ]
    },
    {
     "data": {
      "text/plain": [
       "<matplotlib.figure.Figure at 0x47e0c0f0>"
      ]
     },
     "execution_count": 35,
     "metadata": {},
     "output_type": "execute_result"
    },
    {
     "name": "stdout",
     "output_type": "stream",
     "text": [
      "History data for relu:\n",
      "dict_keys(['val_loss', 'val_acc', 'loss', 'acc'])\n",
      "History data for sigmoid:\n",
      "dict_keys(['val_loss', 'val_acc', 'loss', 'acc'])\n"
     ]
    },
    {
     "data": {
      "text/plain": [
       "[<matplotlib.lines.Line2D at 0x47ec5198>]"
      ]
     },
     "execution_count": 35,
     "metadata": {},
     "output_type": "execute_result"
    },
    {
     "data": {
      "text/plain": [
       "[<matplotlib.lines.Line2D at 0x47ec5748>]"
      ]
     },
     "execution_count": 35,
     "metadata": {},
     "output_type": "execute_result"
    },
    {
     "name": "stdout",
     "output_type": "stream",
     "text": [
      "History data for relu:\n",
      "dict_keys(['val_loss', 'val_acc', 'loss', 'acc'])\n",
      "History data for sigmoid:\n",
      "dict_keys(['val_loss', 'val_acc', 'loss', 'acc'])\n"
     ]
    },
    {
     "data": {
      "text/plain": [
       "[<matplotlib.lines.Line2D at 0x47ec5c88>]"
      ]
     },
     "execution_count": 35,
     "metadata": {},
     "output_type": "execute_result"
    },
    {
     "data": {
      "text/plain": [
       "[<matplotlib.lines.Line2D at 0x47ec5b70>]"
      ]
     },
     "execution_count": 35,
     "metadata": {},
     "output_type": "execute_result"
    },
    {
     "name": "stdout",
     "output_type": "stream",
     "text": [
      "History data for relu:\n",
      "dict_keys(['val_loss', 'val_acc', 'loss', 'acc'])\n",
      "History data for sigmoid:\n",
      "dict_keys(['val_loss', 'val_acc', 'loss', 'acc'])\n"
     ]
    },
    {
     "data": {
      "text/plain": [
       "[<matplotlib.lines.Line2D at 0x47ecc588>]"
      ]
     },
     "execution_count": 35,
     "metadata": {},
     "output_type": "execute_result"
    },
    {
     "data": {
      "text/plain": [
       "[<matplotlib.lines.Line2D at 0x47ec5160>]"
      ]
     },
     "execution_count": 35,
     "metadata": {},
     "output_type": "execute_result"
    },
    {
     "data": {
      "text/plain": [
       "Text(0.5,1,'model accuracy')"
      ]
     },
     "execution_count": 35,
     "metadata": {},
     "output_type": "execute_result"
    },
    {
     "data": {
      "text/plain": [
       "Text(0,0.5,'accuracy')"
      ]
     },
     "execution_count": 35,
     "metadata": {},
     "output_type": "execute_result"
    },
    {
     "data": {
      "text/plain": [
       "Text(0.5,0,'epoch')"
      ]
     },
     "execution_count": 35,
     "metadata": {},
     "output_type": "execute_result"
    },
    {
     "data": {
      "text/plain": [
       "<matplotlib.legend.Legend at 0x47dd0390>"
      ]
     },
     "execution_count": 35,
     "metadata": {},
     "output_type": "execute_result"
    },
    {
     "data": {
      "application/pdf": "[encoded data removed]",
      "image/png": "[encoded data removed]",
      "text/plain": [
       "<matplotlib.figure.Figure at 0x47e0c0f0>"
      ]
     },
     "metadata": {},
     "output_type": "display_data"
    },
    {
     "data": {
      "text/plain": [
       "<matplotlib.figure.Figure at 0x47eae4e0>"
      ]
     },
     "execution_count": 35,
     "metadata": {},
     "output_type": "execute_result"
    },
    {
     "data": {
      "text/plain": [
       "[<matplotlib.lines.Line2D at 0x486c5f60>]"
      ]
     },
     "execution_count": 35,
     "metadata": {},
     "output_type": "execute_result"
    },
    {
     "data": {
      "text/plain": [
       "[<matplotlib.lines.Line2D at 0x486d34a8>]"
      ]
     },
     "execution_count": 35,
     "metadata": {},
     "output_type": "execute_result"
    },
    {
     "data": {
      "text/plain": [
       "[<matplotlib.lines.Line2D at 0x486d3470>]"
      ]
     },
     "execution_count": 35,
     "metadata": {},
     "output_type": "execute_result"
    },
    {
     "data": {
      "text/plain": [
       "[<matplotlib.lines.Line2D at 0x486d3d30>]"
      ]
     },
     "execution_count": 35,
     "metadata": {},
     "output_type": "execute_result"
    },
    {
     "data": {
      "text/plain": [
       "[<matplotlib.lines.Line2D at 0x486e7128>]"
      ]
     },
     "execution_count": 35,
     "metadata": {},
     "output_type": "execute_result"
    },
    {
     "data": {
      "text/plain": [
       "[<matplotlib.lines.Line2D at 0x486c5f28>]"
      ]
     },
     "execution_count": 35,
     "metadata": {},
     "output_type": "execute_result"
    },
    {
     "data": {
      "text/plain": [
       "Text(0.5,1,'model accuracy')"
      ]
     },
     "execution_count": 35,
     "metadata": {},
     "output_type": "execute_result"
    },
    {
     "data": {
      "text/plain": [
       "Text(0,0.5,'accuracy')"
      ]
     },
     "execution_count": 35,
     "metadata": {},
     "output_type": "execute_result"
    },
    {
     "data": {
      "text/plain": [
       "Text(0.5,0,'epoch')"
      ]
     },
     "execution_count": 35,
     "metadata": {},
     "output_type": "execute_result"
    },
    {
     "data": {
      "text/plain": [
       "<matplotlib.legend.Legend at 0x486e79e8>"
      ]
     },
     "execution_count": 35,
     "metadata": {},
     "output_type": "execute_result"
    },
    {
     "data": {
      "application/pdf": "[encoded data removed]",
      "image/png": "[encoded data removed]",
      "text/plain": [
       "<matplotlib.figure.Figure at 0x47eae4e0>"
      ]
     },
     "metadata": {},
     "output_type": "display_data"
    }
   ],
   "source": [
    "# Training (You don't need to change this part of the code)\n",
    "for i in range(3):\n",
    "    print('Test score for relu, {} layers: {}'.format(i+1, scores[i][0]))\n",
    "    print('Test accuracy for relu, {} layers: {}'.format(i+1, scores[i][1]))\n",
    "    print('Test score for sigmoid, {} layers: {}'.format(i+1, scores2[i][0]))\n",
    "    print('Test accuracy for sigmoid, {} layers: {}'.format(i+1, scores2[i][1]))\n",
    "\n",
    "plt.figure(figsize=(10,10))\n",
    "for i in range(len(histories)):\n",
    "    # list all data in history\n",
    "    print(\"History data for relu:\")\n",
    "    print(histories[i].history.keys())\n",
    "    print(\"History data for sigmoid:\")\n",
    "    print(histories2[i].history.keys())\n",
    "    # summarize history for accuracy\n",
    "    plt.plot(histories[i].history['acc'], label = \"Accuracy for training data on {} layers with relu.\".format(i+1))\n",
    "    plt.plot(histories[i].history['val_acc'], label = \"Accuracy for test data on {} layers with relu.\".format(i+1))\n",
    "\n",
    "plt.title('model accuracy')\n",
    "plt.ylabel('accuracy')\n",
    "plt.xlabel('epoch')\n",
    "plt.legend(loc='upper left')\n",
    "plt.show()\n",
    "\n",
    "plt.figure(figsize=(10,10))\n",
    "for i in range(len(histories)):\n",
    "    plt.plot(histories2[i].history['acc'], label = \"Accuracy for training data on {} layers with sigmoid.\".format(i+1))\n",
    "    plt.plot(histories2[i].history['val_acc'], label = \"Accuracy for test data on {} layers with sigmoid.\".format(i+1))\n",
    "plt.title('model accuracy')\n",
    "plt.ylabel('accuracy')\n",
    "plt.xlabel('epoch')\n",
    "plt.legend(loc='upper left')\n",
    "plt.show()"
   ]
  },
  {
   "cell_type": "code",
   "execution_count": 2,
   "metadata": {
    "collapsed": true
   },
   "outputs": [],
   "source": [
    "# Code opdracht 2"
   ]
  },
  {
   "cell_type": "markdown",
   "metadata": {},
   "source": [
    "#### UItleg\n"
   ]
  },
  {
   "cell_type": "markdown",
   "metadata": {
    "collapsed": true
   },
   "source": [
    "## MNIST Calculator (6 points)\n",
    "\n",
    "During the lectures you have seen a CNN model that can be successfully trained to classify the MNIST images. You have also seen how a RNN model that can be trained to implement addition of two numbers. You now need to build a model that is a combination of convolutional layers and recurrent cells. \n",
    "\n",
    "Using the KERAS library, design and train a model that produces a sum of a sequence of MNIST images. More specifically, the model should input a sequence of 10 images and compute the cumulative sum of the digits represented by the images.\n",
    "\n",
    "For example:\n",
    "\n",
    "Input 1: ![294](images/a3ex1.png)\n",
    "\n",
    "Output 1: 46\n",
    "\n",
    "Input 2: ![61](images/a3ex2.png)\n",
    "\n",
    "Output 2: 43\n",
    "\n",
    "Your solutions should include:\n",
    "- Python code that formats the MNIST dataset such that it can be used for traning and testing your model\n",
    "- Implementation in keras of your model (for training and testing)\n",
    "- Performance on the model on test data\n",
    "- Justification (in text) of your decisions for the model architecture (type of layers, activation functions, loss function, regularization and training hyperparameters)\n",
    "\n",
    "Note: Use the 60000/10000 train/test split of the MNIST dataset\n"
   ]
  },
  {
   "cell_type": "code",
   "execution_count": 7,
   "metadata": {
    "collapsed": true
   },
   "outputs": [],
   "source": [
    "# Provide your solution here"
   ]
  },
  {
   "cell_type": "markdown",
   "metadata": {},
   "source": [
    "##### Provide your justification here"
   ]
  }
 ],
 "metadata": {
  "anaconda-cloud": {},
  "kernelspec": {
   "display_name": "Python 3",
   "language": "python",
   "name": "python3"
  },
  "language_info": {
   "codemirror_mode": {
    "name": "ipython",
    "version": 3
   },
   "file_extension": ".py",
   "mimetype": "text/x-python",
   "name": "python",
   "nbconvert_exporter": "python",
   "pygments_lexer": "ipython3",
   "version": "3.6.3"
  }
 },
 "nbformat": 4,
 "nbformat_minor": 1
}
